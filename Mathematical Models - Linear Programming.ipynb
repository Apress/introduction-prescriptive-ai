{
 "cells": [
  {
   "cell_type": "markdown",
   "id": "4e023b68",
   "metadata": {},
   "source": [
    "## Problem Statement:\n",
    "\n",
    "A factory produces four different products, Diapers, Sanitary Pads, Facial Tissues and Toilet Papers and that their daily produced number of Diapers,  Sanitary Pads, Facial Tissues and Toilet papers is $x_{1}$, $x_{2}$, $x_{3}$ and $x_{4}$ respectively. Based on the following conditions, the factory management wants to come up with a production schedule that would maximize profit. \n",
    "\n",
    "## Conditions:\n",
    "\n",
    "- The profit per unit of product is \\\\$10, \\\\$11, \\\\$8, and \\\\$12.5 for Diapers, Sanitary Pads, Facial Tissues and Toilet Papers respectively\n",
    "\n",
    "- Due to manpower constraints, the total number of units produced per day can’t exceed 45\n",
    "\n",
    "- The raw materials required for producing the aforementioned products are wood pulp and fiber. For producing a single unit of Diaper, 5 units of wood pulp is consumed. Each unit of Sanitary Pad requires 7 units of wood pulp and 2 units of fiber. Each unit of Facial Tissues needs 2 units of wood pulp and 1 unit of fiber. Finally, each unit of Toilet paper requires 3 units of fiber\n",
    "\n",
    "- Due to the transportation and storage constraints, the factory can consume up to 100 units of wood pulp and 75 units of fiber per day\n",
    "\n",
    "As the problem is related to production optimization, the environment can be safely assumed to be a controlled one with little to no uncertainty. Hence, we can go ahead with a mathematical model as a solution. \n",
    "For the above given problem statement and associated conditions, the mathematical model can be defined like this:\n",
    "\n",
    "Maximize: 10$x_{1}$ + 11$x_{2}$ + 8$x_{3}$ + 12.5$x_{4}$ (Profit)\n",
    "\n",
    "## Constraints:\n",
    "\n",
    "$x_{1}$ + $x_{2}$ + $x_{3}$ + $x_{4}$ $\\leq$ 45 (Manpower)\n",
    "\n",
    "5$x_{1}$ + 7$x_{2}$ + 2$x_{3}$ $\\leq$ 100 (Wood pulp)\n",
    "\n",
    "2$x_{2}$ + 1$x_{3}$ + 3$x_{4}$  $\\leq$ 75 (Fiber)\n",
    "\n",
    "$x_{1}$, $x_{2}$, $x_{3}$, $x_{4}$  $\\geq$ 0\n",
    "\n",
    "## Solution:\n",
    "\n",
    "We would be using a general-purpose and open-source Linear Programming modeling package in python named PuLP. It is a highly suitable option for a diverse set of optimization problems due to its exceptional qualities such as user-friendliness, versatility, compatibility with other Python libraries, continual support from a thriving community, and open-source availability. "
   ]
  },
  {
   "cell_type": "markdown",
   "id": "08b9ab56",
   "metadata": {},
   "source": [
    "## Step 1: Importing the PuLP library and defining the mathematical model object"
   ]
  },
  {
   "cell_type": "code",
   "execution_count": 1,
   "id": "b6c8bf73",
   "metadata": {},
   "outputs": [],
   "source": [
    "#!pip install --upgrade pip\n",
    "#!pip install pulp\n",
    "\n",
    "from pulp import LpProblem, LpMaximize, LpVariable, LpStatus, lpSum"
   ]
  },
  {
   "cell_type": "code",
   "execution_count": 2,
   "id": "c7327d64",
   "metadata": {},
   "outputs": [],
   "source": [
    "opt_model = LpProblem(name=\"production-planning\", sense=LpMaximize)"
   ]
  },
  {
   "cell_type": "markdown",
   "id": "82e6809e",
   "metadata": {},
   "source": [
    "Here the model object is defined using the LpProblem module with sense as LpMaximize as we want to maximize the profit made from the production."
   ]
  },
  {
   "cell_type": "markdown",
   "id": "876e5b31",
   "metadata": {},
   "source": [
    "## Step 2: Defining the decision variables "
   ]
  },
  {
   "cell_type": "code",
   "execution_count": 3,
   "id": "74768f31",
   "metadata": {},
   "outputs": [],
   "source": [
    "x = {i: LpVariable(name=f\"x{i}\", lowBound=0) for i in range(1, 5)}"
   ]
  },
  {
   "cell_type": "code",
   "execution_count": 4,
   "id": "edcd6222",
   "metadata": {},
   "outputs": [
    {
     "name": "stdout",
     "output_type": "stream",
     "text": [
      "{1: x1, 2: x2, 3: x3, 4: x4}\n"
     ]
    }
   ],
   "source": [
    "print(x)"
   ]
  },
  {
   "cell_type": "markdown",
   "id": "473861b5",
   "metadata": {},
   "source": [
    "## Step 3: Adding Constraints"
   ]
  },
  {
   "cell_type": "code",
   "execution_count": 5,
   "id": "26774089",
   "metadata": {},
   "outputs": [],
   "source": [
    "opt_model += (lpSum(x.values()) <= 45, \"Manpower\")\n",
    "opt_model += (5 * x[1] + 7 * x[2] + 2 * x[3] <= 100, \"Wood Pulp\")\n",
    "opt_model += (2 * x[2] + 1 * x[3] + 3 * x[4] <= 75, \"Fiber\")"
   ]
  },
  {
   "cell_type": "markdown",
   "id": "5e7fe8ab",
   "metadata": {},
   "source": [
    "## Step 4: Setting the Objective Function"
   ]
  },
  {
   "cell_type": "code",
   "execution_count": 6,
   "id": "17faa07f",
   "metadata": {},
   "outputs": [],
   "source": [
    "opt_model += (10 * x[1] + 11 * x[2] + 8 * x[3] + 12.5 * x[4], \"Objective Function\")"
   ]
  },
  {
   "cell_type": "markdown",
   "id": "0e06ec44",
   "metadata": {},
   "source": [
    "## Step 5: Utilizing the default solver method for solving the given optimization problem"
   ]
  },
  {
   "cell_type": "code",
   "execution_count": 7,
   "id": "a567f696",
   "metadata": {},
   "outputs": [],
   "source": [
    "status = opt_model.solve()"
   ]
  },
  {
   "cell_type": "markdown",
   "id": "8a1f4cc3",
   "metadata": {},
   "source": [
    "## Step 6: Get the Results"
   ]
  },
  {
   "cell_type": "code",
   "execution_count": 8,
   "id": "f76ad39f",
   "metadata": {},
   "outputs": [
    {
     "name": "stdout",
     "output_type": "stream",
     "text": [
      "status: 1, Optimal\n",
      "objective: 512.5\n",
      "x1: 20.0\n",
      "x2: 0.0\n",
      "x3: 0.0\n",
      "x4: 25.0\n",
      "Manpower: 0.0\n",
      "Wood_Pulp: 0.0\n",
      "Fiber: 0.0\n"
     ]
    }
   ],
   "source": [
    "print(f\"status: {opt_model.status}, {LpStatus[opt_model.status]}\")\n",
    "print(f\"objective: {opt_model.objective.value()}\")\n",
    "\n",
    "for var in x.values():\n",
    "    print(f\"{var.name}: {var.value()}\")\n",
    "\n",
    "for name, constraint in opt_model.constraints.items():\n",
    "    print(f\"{name}: {constraint.value()}\")"
   ]
  },
  {
   "cell_type": "markdown",
   "id": "b8e8acec",
   "metadata": {},
   "source": [
    "**From the above output, we can see that the model suggests producing 20 units of $x_{1}$ i.e. Diapers and 25 units of $x_{4}$ i.e. Toilet Papers for maximum profit ($512.5) under the given constraints.**"
   ]
  }
 ],
 "metadata": {
  "kernelspec": {
   "display_name": "Python 3 (ipykernel)",
   "language": "python",
   "name": "python3"
  },
  "language_info": {
   "codemirror_mode": {
    "name": "ipython",
    "version": 3
   },
   "file_extension": ".py",
   "mimetype": "text/x-python",
   "name": "python",
   "nbconvert_exporter": "python",
   "pygments_lexer": "ipython3",
   "version": "3.9.13"
  }
 },
 "nbformat": 4,
 "nbformat_minor": 5
}
