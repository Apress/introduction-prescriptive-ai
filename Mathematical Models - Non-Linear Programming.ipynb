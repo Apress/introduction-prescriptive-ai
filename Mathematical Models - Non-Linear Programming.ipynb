{
 "cells": [
  {
   "cell_type": "markdown",
   "id": "5c68f452",
   "metadata": {},
   "source": [
    "## Problem Statement:\n",
    "\n",
    "After the Covid-19 pandemic, Company X plans to gradually return its employees to work at the office while maintaining a minimum of 25% occupancy in both of its office blocks to ensure efficient operations. The government has provided a risk index to assist companies in determining the risks associated with reopening offices during the current situation. The risk index (RI) is defined in the following manner:\n",
    "\n",
    "RI = $3x_1^2 + 3x_1^3 + x_1x_2 - 2x_2^2 + 2x_2^3$\n",
    "\n",
    "Where:\n",
    "\n",
    "$x_1 = $Proportion of block A available capacity\n",
    "\n",
    "$x_2 = $Proportion of block B available capacity\n",
    "\n",
    "What is the safest way (according to the RI) for company X to resume work from office?"
   ]
  },
  {
   "cell_type": "markdown",
   "id": "7f733fae",
   "metadata": {},
   "source": [
    "## Solution:\n",
    "\n",
    "With the RI definition above and considering company X wants to minimise the risk, we can define the objective function as follows:\n",
    "\n",
    "Minimize: RI = $3x_1^2 + 3x_1^3 + x_1x_2 - 2x_2^2 + 2x_2^3$\n",
    "\n",
    "## Constraints:\n",
    "\n",
    "$x_1$ ≥ 0.25\n",
    "\n",
    "$x_2$ ≥ 0.25\n",
    "\n",
    "$x_1$,$x_2$  ≤ 1\n",
    "\n",
    "For this non-linear problem, we will use the scipy package to derive the solution. \n"
   ]
  },
  {
   "cell_type": "markdown",
   "id": "0877c292",
   "metadata": {},
   "source": [
    "## Step 1: Importing the required libraries (esp. scipy) "
   ]
  },
  {
   "cell_type": "code",
   "execution_count": 3,
   "id": "e09f115a",
   "metadata": {},
   "outputs": [],
   "source": [
    "import numpy as np\n",
    "import pandas as pd\n",
    "import random\n",
    "from scipy.optimize import minimize"
   ]
  },
  {
   "cell_type": "markdown",
   "id": "fea69329",
   "metadata": {},
   "source": [
    "## Step 2: Create a function to generate starting points\n",
    "\n",
    "We will use the function below to generate a tuple of starting points within the feasible range for this problem."
   ]
  },
  {
   "cell_type": "code",
   "execution_count": 1,
   "id": "8a6f28cf",
   "metadata": {},
   "outputs": [],
   "source": [
    "def geneate_kickoff_points(number_of_points):\n",
    "    '''\n",
    "    number_of_points [list]: how many points to generate\n",
    "    '''\n",
    "    kickoff_points = []\n",
    "    \n",
    "    for point in range(number_of_points):\n",
    "        \n",
    "        kickoff_points.append((random.random(), random.random()))\n",
    "        \n",
    "    return kickoff_points"
   ]
  },
  {
   "cell_type": "markdown",
   "id": "bcc46a21",
   "metadata": {},
   "source": [
    "## Step 3: Formulating the Objective Function and Constraints"
   ]
  },
  {
   "cell_type": "code",
   "execution_count": 6,
   "id": "d76cd5c7",
   "metadata": {},
   "outputs": [],
   "source": [
    "objective_function = lambda x: (3*x[0]**2) + (3*x[0]**3) + (x[0]*x[1]) - (2*x[1]**2) + (2*x[1]**3)"
   ]
  },
  {
   "cell_type": "code",
   "execution_count": 8,
   "id": "dab3c849",
   "metadata": {},
   "outputs": [],
   "source": [
    "constraints = [\n",
    "    {'type': 'ineq', 'fun': lambda x: x[0] - 0.25}, # Block A capacity >= 0.25\n",
    "    {'type': 'ineq', 'fun': lambda x: x[1] - 0.25} # Block B capacity >= 0.25\n",
    "]\n",
    "\n",
    "boundaries = [(0,1), (0,1)]"
   ]
  },
  {
   "cell_type": "markdown",
   "id": "2f8108e7",
   "metadata": {},
   "source": [
    "## Step 4: Running the optimal solution function "
   ]
  },
  {
   "cell_type": "code",
   "execution_count": 9,
   "id": "540dc313",
   "metadata": {},
   "outputs": [
    {
     "name": "stdout",
     "output_type": "stream",
     "text": [
      "Optimal solution found:\n",
      "      -  Proportion of block A available capacity: 0.25\n",
      "      -  Proportion of block B available capacity: 0.597\n",
      "      -  Risk index value: 0.096\n"
     ]
    }
   ],
   "source": [
    "# generate a list of N potential kickoff points\n",
    "kickoff_points = geneate_kickoff_points(20)\n",
    "\n",
    "first_iteration = True\n",
    "for point in kickoff_points:\n",
    "    # for each point run the algorithm\n",
    "    result = minimize(\n",
    "        objective_function,\n",
    "        [point[0], point[1]],\n",
    "        method='SLSQP',\n",
    "        bounds=boundaries,\n",
    "        constraints=constraints\n",
    "    )\n",
    "    # first iteration always going to be the best so far\n",
    "    if first_iteration:\n",
    "        better_solution_found = False\n",
    "        best_solution = result\n",
    "    else:\n",
    "        # if we find a better solution, lets use it\n",
    "        if result.success and result.fun < best_solution.fun:\n",
    "            better_solution_found = True\n",
    "            best_solution = result\n",
    "            \n",
    "# print results if algorithim was successful\n",
    "if best_solution.success:\n",
    "    print(f\"\"\"Optimal solution found:\n",
    "      -  Proportion of block A available capacity: {round(best_solution.x[0], 3)}\n",
    "      -  Proportion of block B available capacity: {round(best_solution.x[1], 3)}\n",
    "      -  Risk index value: {round(best_solution.fun, 3)}\"\"\")\n",
    "else: \n",
    "    print(\"No solution found to problem\")"
   ]
  },
  {
   "cell_type": "markdown",
   "id": "03e1a46b",
   "metadata": {},
   "source": [
    "**From the above simulation, we find that company X can resume work from office for its employees with block A capacity at 25% and block B capacity at ~60%, with the optimal ~10% risk for the given constraints/conditions.**"
   ]
  }
 ],
 "metadata": {
  "kernelspec": {
   "display_name": "Python 3 (ipykernel)",
   "language": "python",
   "name": "python3"
  },
  "language_info": {
   "codemirror_mode": {
    "name": "ipython",
    "version": 3
   },
   "file_extension": ".py",
   "mimetype": "text/x-python",
   "name": "python",
   "nbconvert_exporter": "python",
   "pygments_lexer": "ipython3",
   "version": "3.9.13"
  }
 },
 "nbformat": 4,
 "nbformat_minor": 5
}
