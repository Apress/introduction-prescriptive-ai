{
 "cells": [
  {
   "cell_type": "markdown",
   "id": "157d160b",
   "metadata": {},
   "source": [
    "## Problem Statement:\n",
    "\n",
    "A mobile phone manufacturing company wants to improve their pricing strategy by utilizing the power of AI and machine learning algorithms. The company has a large database of mobile phone models with various features such as screen size, camera quality, processor speed, battery life, and others. However, they currently lack an accurate and efficient method for predicting the prices of their mobile phones based on these features. The company is seeking a solution that can help them forecast prices for new phone models with a high degree of accuracy, allowing them to optimize their pricing strategy and stay competitive in the market."
   ]
  },
  {
   "cell_type": "markdown",
   "id": "018402ec",
   "metadata": {},
   "source": [
    "## Solution:\n",
    "\n",
    "The AI team proposes a hybrid solution to solve the given problem. The plan is to first build a machine learning model that takes historical mobile details like screen size, camera quality, processor speed, battery life, and others along with the price. The model output will be used to predict potential price of the handset. The team also proposes a counterfactual generation engine which can provide various scenarios wherein the predicted outcomes change as per the expected price range. For example, if the price of a handset is predicted to be X and if the manufacturer wants to sell it at a price 10%-15% more than the predicted one, the engine will suggest changes in the phone's configuration to the expected price range. This change in the input parameters can be used as a part of product strategy. A third component of a what-if analysis solution can help the decision makers to tweak the counterfactual suggestions based on certain constraints and check whether those changes can still help them sell the phone at the expected price range.\n",
    "\n",
    "The AI team suggests following benefits of using the proposed hybrid solution for mobile pricing prediction:\n",
    "\n",
    "- Accurate price predictions: AI algorithms can analyze vast amounts of data and identify patterns that humans may miss. This enables the tool to accurately predict mobile handset prices based on various features with greater accuracy\n",
    "\n",
    "- Real-time pricing: With an AI-driven tool, pricing decisions can be made in real-time based on changes in market demand and supply. This allows mobile phone manufacturer to respond quickly to changing market conditions and adjust their pricing strategies accordingly\n",
    "\n",
    "- Improved profit margins: By accurately predicting prices, the manufacturer can optimize their pricing strategies to maximize profit margins. The tool can identify the optimal price point for a product, taking into account factors such as production costs, competition, and market demand\n",
    "\n",
    "- Increased customer satisfaction: By setting the right price for a product, the manufacturer can increase customer satisfaction. Customers are more likely to purchase a product if they feel that it is priced fairly and accurately reflects its value\n",
    "\n",
    "- Better decision-making: An AI-driven tool can provide manufacturer with valuable insights into customer preferences and buying behavior. This can help make informed decisions about product development, marketing, and pricing strategies"
   ]
  },
  {
   "cell_type": "markdown",
   "id": "2e3dcd4b",
   "metadata": {},
   "source": [
    "### Dataset Details:\n",
    "\n",
    "- Product_id: ID of each cellphone\n",
    "\n",
    "- Price: Price of each cellphone\n",
    "\n",
    "- Sale: Sales number\n",
    "\n",
    "- weight: Weight of each cellphone\n",
    "\n",
    "- resolution: Resolution of each cellphone\n",
    "\n",
    "- ppi: Phone Pixel Density\n",
    "\n",
    "- cpu core: type of CPU core in each cellphone\n",
    "\n",
    "- cpu freq: CPU Frequency in each cellphone\n",
    "\n",
    "- internal mem: Internal memory of each cellphone\n",
    "\n",
    "- ram: RAM of each cellphone\n",
    "\n",
    "- RearCam: Resolution of rear camera\n",
    "\n",
    "- Front_Cam: Resolution of front camera\n",
    "\n",
    "- battery: Battery capacity (in mA)\n",
    "\n",
    "- thickness: Thickness of the phone\n",
    "\n",
    "\n",
    "Source: https://www.kaggle.com/datasets/mohannapd/mobile-price-prediction "
   ]
  },
  {
   "cell_type": "markdown",
   "id": "58c00412",
   "metadata": {},
   "source": [
    "### Stage 1: AI Model Creation:\n",
    "\n",
    "P.S. The goal of this activity is to build a machine learning model that can fairly predict the mobile prices. Although advanced data processing techniques and ml algorithms  are available, we will use the ones that give satisfactory results, to ensure we are spending more efforts towards the goal i.e. building a Decision Intelligence system."
   ]
  },
  {
   "cell_type": "markdown",
   "id": "0361e33b",
   "metadata": {},
   "source": [
    "#### Step 1: Import the required libraries"
   ]
  },
  {
   "cell_type": "code",
   "execution_count": 1,
   "id": "dbae2fba",
   "metadata": {},
   "outputs": [],
   "source": [
    "import pandas as pd\n",
    "import dice_ml\n",
    "from dice_ml import Dice\n",
    "from sklearn.metrics import r2_score\n",
    "from sklearn.ensemble import RandomForestRegressor\n",
    "from sklearn.model_selection import train_test_split"
   ]
  },
  {
   "cell_type": "markdown",
   "id": "42bf3c83",
   "metadata": {},
   "source": [
    "#### Step 2: Load the Dataset"
   ]
  },
  {
   "cell_type": "code",
   "execution_count": 2,
   "id": "ee7802f6",
   "metadata": {},
   "outputs": [],
   "source": [
    "all_data = pd.read_csv('cellphone_price_data.csv')"
   ]
  },
  {
   "cell_type": "code",
   "execution_count": 3,
   "id": "4384da94",
   "metadata": {},
   "outputs": [
    {
     "data": {
      "text/html": [
       "<div>\n",
       "<style scoped>\n",
       "    .dataframe tbody tr th:only-of-type {\n",
       "        vertical-align: middle;\n",
       "    }\n",
       "\n",
       "    .dataframe tbody tr th {\n",
       "        vertical-align: top;\n",
       "    }\n",
       "\n",
       "    .dataframe thead th {\n",
       "        text-align: right;\n",
       "    }\n",
       "</style>\n",
       "<table border=\"1\" class=\"dataframe\">\n",
       "  <thead>\n",
       "    <tr style=\"text-align: right;\">\n",
       "      <th></th>\n",
       "      <th>Product_id</th>\n",
       "      <th>Price</th>\n",
       "      <th>Sale</th>\n",
       "      <th>weight</th>\n",
       "      <th>resolution</th>\n",
       "      <th>ppi</th>\n",
       "      <th>cpu core</th>\n",
       "      <th>cpu freq</th>\n",
       "      <th>internal mem</th>\n",
       "      <th>ram</th>\n",
       "      <th>RearCam</th>\n",
       "      <th>Front_Cam</th>\n",
       "      <th>battery</th>\n",
       "      <th>thickness</th>\n",
       "    </tr>\n",
       "  </thead>\n",
       "  <tbody>\n",
       "    <tr>\n",
       "      <th>0</th>\n",
       "      <td>203</td>\n",
       "      <td>2357</td>\n",
       "      <td>10</td>\n",
       "      <td>135.0</td>\n",
       "      <td>5.2</td>\n",
       "      <td>424</td>\n",
       "      <td>8</td>\n",
       "      <td>1.35</td>\n",
       "      <td>16.0</td>\n",
       "      <td>3.000</td>\n",
       "      <td>13.00</td>\n",
       "      <td>8.0</td>\n",
       "      <td>2610</td>\n",
       "      <td>7.4</td>\n",
       "    </tr>\n",
       "    <tr>\n",
       "      <th>1</th>\n",
       "      <td>880</td>\n",
       "      <td>1749</td>\n",
       "      <td>10</td>\n",
       "      <td>125.0</td>\n",
       "      <td>4.0</td>\n",
       "      <td>233</td>\n",
       "      <td>2</td>\n",
       "      <td>1.30</td>\n",
       "      <td>4.0</td>\n",
       "      <td>1.000</td>\n",
       "      <td>3.15</td>\n",
       "      <td>0.0</td>\n",
       "      <td>1700</td>\n",
       "      <td>9.9</td>\n",
       "    </tr>\n",
       "    <tr>\n",
       "      <th>2</th>\n",
       "      <td>40</td>\n",
       "      <td>1916</td>\n",
       "      <td>10</td>\n",
       "      <td>110.0</td>\n",
       "      <td>4.7</td>\n",
       "      <td>312</td>\n",
       "      <td>4</td>\n",
       "      <td>1.20</td>\n",
       "      <td>8.0</td>\n",
       "      <td>1.500</td>\n",
       "      <td>13.00</td>\n",
       "      <td>5.0</td>\n",
       "      <td>2000</td>\n",
       "      <td>7.6</td>\n",
       "    </tr>\n",
       "    <tr>\n",
       "      <th>3</th>\n",
       "      <td>99</td>\n",
       "      <td>1315</td>\n",
       "      <td>11</td>\n",
       "      <td>118.5</td>\n",
       "      <td>4.0</td>\n",
       "      <td>233</td>\n",
       "      <td>2</td>\n",
       "      <td>1.30</td>\n",
       "      <td>4.0</td>\n",
       "      <td>0.512</td>\n",
       "      <td>3.15</td>\n",
       "      <td>0.0</td>\n",
       "      <td>1400</td>\n",
       "      <td>11.0</td>\n",
       "    </tr>\n",
       "    <tr>\n",
       "      <th>4</th>\n",
       "      <td>880</td>\n",
       "      <td>1749</td>\n",
       "      <td>11</td>\n",
       "      <td>125.0</td>\n",
       "      <td>4.0</td>\n",
       "      <td>233</td>\n",
       "      <td>2</td>\n",
       "      <td>1.30</td>\n",
       "      <td>4.0</td>\n",
       "      <td>1.000</td>\n",
       "      <td>3.15</td>\n",
       "      <td>0.0</td>\n",
       "      <td>1700</td>\n",
       "      <td>9.9</td>\n",
       "    </tr>\n",
       "  </tbody>\n",
       "</table>\n",
       "</div>"
      ],
      "text/plain": [
       "   Product_id  Price  Sale  weight  resolution  ppi  cpu core  cpu freq  \\\n",
       "0         203   2357    10   135.0         5.2  424         8      1.35   \n",
       "1         880   1749    10   125.0         4.0  233         2      1.30   \n",
       "2          40   1916    10   110.0         4.7  312         4      1.20   \n",
       "3          99   1315    11   118.5         4.0  233         2      1.30   \n",
       "4         880   1749    11   125.0         4.0  233         2      1.30   \n",
       "\n",
       "   internal mem    ram  RearCam  Front_Cam  battery  thickness  \n",
       "0          16.0  3.000    13.00        8.0     2610        7.4  \n",
       "1           4.0  1.000     3.15        0.0     1700        9.9  \n",
       "2           8.0  1.500    13.00        5.0     2000        7.6  \n",
       "3           4.0  0.512     3.15        0.0     1400       11.0  \n",
       "4           4.0  1.000     3.15        0.0     1700        9.9  "
      ]
     },
     "execution_count": 3,
     "metadata": {},
     "output_type": "execute_result"
    }
   ],
   "source": [
    "all_data.head()"
   ]
  },
  {
   "cell_type": "markdown",
   "id": "b063825c",
   "metadata": {},
   "source": [
    "#### Step 3: Checking the data characteristics and if there are any discrepancies in the data (e.g. missing values, wrong data types etc.)"
   ]
  },
  {
   "cell_type": "code",
   "execution_count": 4,
   "id": "806b3183",
   "metadata": {},
   "outputs": [
    {
     "name": "stdout",
     "output_type": "stream",
     "text": [
      "<class 'pandas.core.frame.DataFrame'>\n",
      "RangeIndex: 161 entries, 0 to 160\n",
      "Data columns (total 14 columns):\n",
      " #   Column        Non-Null Count  Dtype  \n",
      "---  ------        --------------  -----  \n",
      " 0   Product_id    161 non-null    int64  \n",
      " 1   Price         161 non-null    int64  \n",
      " 2   Sale          161 non-null    int64  \n",
      " 3   weight        161 non-null    float64\n",
      " 4   resolution    161 non-null    float64\n",
      " 5   ppi           161 non-null    int64  \n",
      " 6   cpu core      161 non-null    int64  \n",
      " 7   cpu freq      161 non-null    float64\n",
      " 8   internal mem  161 non-null    float64\n",
      " 9   ram           161 non-null    float64\n",
      " 10  RearCam       161 non-null    float64\n",
      " 11  Front_Cam     161 non-null    float64\n",
      " 12  battery       161 non-null    int64  \n",
      " 13  thickness     161 non-null    float64\n",
      "dtypes: float64(8), int64(6)\n",
      "memory usage: 17.7 KB\n"
     ]
    }
   ],
   "source": [
    "all_data.info()"
   ]
  },
  {
   "cell_type": "markdown",
   "id": "beedb0e3",
   "metadata": {},
   "source": [
    "As we see from the above details, the dataset does not have any missing values or any issues related to the data. So, no data preprocessing required here and we directly move on to the modeling."
   ]
  },
  {
   "cell_type": "markdown",
   "id": "dda7a3e3",
   "metadata": {},
   "source": [
    "#### Step 4: Modeling"
   ]
  },
  {
   "cell_type": "markdown",
   "id": "e1d732b9",
   "metadata": {},
   "source": [
    "Splitting the dataset for training and inference."
   ]
  },
  {
   "cell_type": "code",
   "execution_count": 5,
   "id": "de52c8e0",
   "metadata": {},
   "outputs": [],
   "source": [
    "x=all_data.drop(['Price', 'Product_id'],axis=1)\n",
    "y=all_data['Price']\n",
    "x_train,x_test,y_train,y_test=train_test_split(x,y,test_size=0.2,random_state=0)"
   ]
  },
  {
   "cell_type": "markdown",
   "id": "d3fa3ee8",
   "metadata": {},
   "source": [
    "Now, building a Random Forest Regressor model and using it for making predictions on the test data, saving and evaluating them."
   ]
  },
  {
   "cell_type": "code",
   "execution_count": 6,
   "id": "6aa3ba65",
   "metadata": {},
   "outputs": [
    {
     "data": {
      "text/plain": [
       "RandomForestRegressor()"
      ]
     },
     "execution_count": 6,
     "metadata": {},
     "output_type": "execute_result"
    }
   ],
   "source": [
    "rf = RandomForestRegressor()\n",
    "rf.fit(x_train,y_train)"
   ]
  },
  {
   "cell_type": "code",
   "execution_count": 8,
   "id": "e3e82eb3",
   "metadata": {},
   "outputs": [],
   "source": [
    "predictions = rf.predict(x_test)"
   ]
  },
  {
   "cell_type": "code",
   "execution_count": 9,
   "id": "6ee0aeca",
   "metadata": {},
   "outputs": [
    {
     "name": "stdout",
     "output_type": "stream",
     "text": [
      "R2 score for Training Data:  0.9945696702046988\n",
      "R2 score for Inference Data:  0.9678002631345382\n"
     ]
    }
   ],
   "source": [
    "print('R2 score for Training Data: ', rf.score(x_train, y_train))\n",
    "print('R2 score for Inference Data: ', r2_score(y_test,predictions))"
   ]
  },
  {
   "cell_type": "code",
   "execution_count": 10,
   "id": "8969be23",
   "metadata": {},
   "outputs": [],
   "source": [
    "x_test['predicted_price'] = predictions"
   ]
  },
  {
   "cell_type": "code",
   "execution_count": 11,
   "id": "a3950d40",
   "metadata": {},
   "outputs": [
    {
     "name": "stdout",
     "output_type": "stream",
     "text": [
      "<class 'pandas.core.frame.DataFrame'>\n",
      "Int64Index: 128 entries, 80 to 47\n",
      "Data columns (total 12 columns):\n",
      " #   Column        Non-Null Count  Dtype  \n",
      "---  ------        --------------  -----  \n",
      " 0   Sale          128 non-null    int64  \n",
      " 1   weight        128 non-null    float64\n",
      " 2   resolution    128 non-null    float64\n",
      " 3   ppi           128 non-null    int64  \n",
      " 4   cpu core      128 non-null    int64  \n",
      " 5   cpu freq      128 non-null    float64\n",
      " 6   internal mem  128 non-null    float64\n",
      " 7   ram           128 non-null    float64\n",
      " 8   RearCam       128 non-null    float64\n",
      " 9   Front_Cam     128 non-null    float64\n",
      " 10  battery       128 non-null    int64  \n",
      " 11  thickness     128 non-null    float64\n",
      "dtypes: float64(8), int64(4)\n",
      "memory usage: 13.0 KB\n"
     ]
    }
   ],
   "source": [
    "x_train.info()"
   ]
  },
  {
   "cell_type": "code",
   "execution_count": 12,
   "id": "11770210",
   "metadata": {},
   "outputs": [
    {
     "data": {
      "text/html": [
       "<div>\n",
       "<style scoped>\n",
       "    .dataframe tbody tr th:only-of-type {\n",
       "        vertical-align: middle;\n",
       "    }\n",
       "\n",
       "    .dataframe tbody tr th {\n",
       "        vertical-align: top;\n",
       "    }\n",
       "\n",
       "    .dataframe thead th {\n",
       "        text-align: right;\n",
       "    }\n",
       "</style>\n",
       "<table border=\"1\" class=\"dataframe\">\n",
       "  <thead>\n",
       "    <tr style=\"text-align: right;\">\n",
       "      <th></th>\n",
       "      <th>Sale</th>\n",
       "      <th>weight</th>\n",
       "      <th>resolution</th>\n",
       "      <th>ppi</th>\n",
       "      <th>cpu core</th>\n",
       "      <th>cpu freq</th>\n",
       "      <th>internal mem</th>\n",
       "      <th>ram</th>\n",
       "      <th>RearCam</th>\n",
       "      <th>Front_Cam</th>\n",
       "      <th>battery</th>\n",
       "      <th>thickness</th>\n",
       "      <th>predicted_price</th>\n",
       "    </tr>\n",
       "  </thead>\n",
       "  <tbody>\n",
       "    <tr>\n",
       "      <th>111</th>\n",
       "      <td>302</td>\n",
       "      <td>149.0</td>\n",
       "      <td>5.5</td>\n",
       "      <td>534</td>\n",
       "      <td>8</td>\n",
       "      <td>1.600</td>\n",
       "      <td>32.000</td>\n",
       "      <td>3.000</td>\n",
       "      <td>16.0</td>\n",
       "      <td>8.0</td>\n",
       "      <td>3000</td>\n",
       "      <td>7.0</td>\n",
       "      <td>2941.57</td>\n",
       "    </tr>\n",
       "    <tr>\n",
       "      <th>113</th>\n",
       "      <td>308</td>\n",
       "      <td>77.9</td>\n",
       "      <td>2.4</td>\n",
       "      <td>167</td>\n",
       "      <td>0</td>\n",
       "      <td>0.000</td>\n",
       "      <td>0.004</td>\n",
       "      <td>0.004</td>\n",
       "      <td>0.0</td>\n",
       "      <td>0.0</td>\n",
       "      <td>850</td>\n",
       "      <td>12.4</td>\n",
       "      <td>800.82</td>\n",
       "    </tr>\n",
       "    <tr>\n",
       "      <th>144</th>\n",
       "      <td>1781</td>\n",
       "      <td>179.0</td>\n",
       "      <td>6.0</td>\n",
       "      <td>184</td>\n",
       "      <td>4</td>\n",
       "      <td>1.300</td>\n",
       "      <td>8.000</td>\n",
       "      <td>1.000</td>\n",
       "      <td>13.0</td>\n",
       "      <td>8.0</td>\n",
       "      <td>2580</td>\n",
       "      <td>8.0</td>\n",
       "      <td>1928.57</td>\n",
       "    </tr>\n",
       "    <tr>\n",
       "      <th>7</th>\n",
       "      <td>13</td>\n",
       "      <td>150.0</td>\n",
       "      <td>5.5</td>\n",
       "      <td>401</td>\n",
       "      <td>4</td>\n",
       "      <td>2.300</td>\n",
       "      <td>16.000</td>\n",
       "      <td>2.000</td>\n",
       "      <td>16.0</td>\n",
       "      <td>8.0</td>\n",
       "      <td>2500</td>\n",
       "      <td>9.5</td>\n",
       "      <td>2295.57</td>\n",
       "    </tr>\n",
       "    <tr>\n",
       "      <th>44</th>\n",
       "      <td>40</td>\n",
       "      <td>169.0</td>\n",
       "      <td>5.7</td>\n",
       "      <td>515</td>\n",
       "      <td>4</td>\n",
       "      <td>1.875</td>\n",
       "      <td>64.000</td>\n",
       "      <td>4.000</td>\n",
       "      <td>12.0</td>\n",
       "      <td>5.0</td>\n",
       "      <td>3500</td>\n",
       "      <td>7.9</td>\n",
       "      <td>2956.94</td>\n",
       "    </tr>\n",
       "  </tbody>\n",
       "</table>\n",
       "</div>"
      ],
      "text/plain": [
       "     Sale  weight  resolution  ppi  cpu core  cpu freq  internal mem    ram  \\\n",
       "111   302   149.0         5.5  534         8     1.600        32.000  3.000   \n",
       "113   308    77.9         2.4  167         0     0.000         0.004  0.004   \n",
       "144  1781   179.0         6.0  184         4     1.300         8.000  1.000   \n",
       "7      13   150.0         5.5  401         4     2.300        16.000  2.000   \n",
       "44     40   169.0         5.7  515         4     1.875        64.000  4.000   \n",
       "\n",
       "     RearCam  Front_Cam  battery  thickness  predicted_price  \n",
       "111     16.0        8.0     3000        7.0          2941.57  \n",
       "113      0.0        0.0      850       12.4           800.82  \n",
       "144     13.0        8.0     2580        8.0          1928.57  \n",
       "7       16.0        8.0     2500        9.5          2295.57  \n",
       "44      12.0        5.0     3500        7.9          2956.94  "
      ]
     },
     "execution_count": 12,
     "metadata": {},
     "output_type": "execute_result"
    }
   ],
   "source": [
    "x_test.head()"
   ]
  },
  {
   "cell_type": "code",
   "execution_count": 13,
   "id": "df45bea1",
   "metadata": {},
   "outputs": [],
   "source": [
    "x_train['Price'] = all_data['Price']"
   ]
  },
  {
   "cell_type": "markdown",
   "id": "78d7ec41",
   "metadata": {},
   "source": [
    "### Stage 2: Generating Counterfactuals"
   ]
  },
  {
   "cell_type": "markdown",
   "id": "f57652b0",
   "metadata": {},
   "source": [
    "We will be using a combination of Counterfactual and What-If analysis to drive decision intelligence. Unlike in the classification use case, we will be using the expected price range of the mobile as desired outcome as this is a regression use case."
   ]
  },
  {
   "cell_type": "code",
   "execution_count": 16,
   "id": "0a616849",
   "metadata": {},
   "outputs": [],
   "source": [
    "d_mobile = dice_ml.Data(dataframe=x_train, continuous_features=['Sale', 'weight', 'resolution', 'ppi', 'cpu core', 'cpu freq', 'internal mem', 'ram', 'RearCam', 'Front_Cam', 'battery', 'thickness'], outcome_name='Price')\n",
    "m_mobile = dice_ml.Model(model=rf, backend=\"sklearn\", model_type='regressor')"
   ]
  },
  {
   "cell_type": "code",
   "execution_count": 17,
   "id": "6b6bf47e",
   "metadata": {},
   "outputs": [],
   "source": [
    "explainer_mobile = Dice(d_mobile, m_mobile, method=\"random\")"
   ]
  },
  {
   "cell_type": "markdown",
   "id": "41087f39",
   "metadata": {},
   "source": [
    "### Stage 3: What-If Analysis"
   ]
  },
  {
   "cell_type": "markdown",
   "id": "38f740ab",
   "metadata": {},
   "source": [
    "#### Step 5: Using the explainer object to generate possible pricing strategies"
   ]
  },
  {
   "cell_type": "markdown",
   "id": "c2635e04",
   "metadata": {},
   "source": [
    "Now we have the 'explainer' counterfactual object that can be used to produce counterfactual explanations i.e. what changes in the inputs can be made to get the desired output. In our case, it would be:\n",
    "\n",
    "\"For the given predicted price, what can be changed (mobile configurations like screen size, resolution etc.) so that the mobile can be sold at a higher price\". Let us understand this through an example. "
   ]
  },
  {
   "cell_type": "code",
   "execution_count": 18,
   "id": "45dee4d2",
   "metadata": {},
   "outputs": [],
   "source": [
    "input_data = x_test.drop(['predicted_price'], axis=1)"
   ]
  },
  {
   "cell_type": "code",
   "execution_count": 20,
   "id": "b21f4c8c",
   "metadata": {},
   "outputs": [],
   "source": [
    "input_record = input_data[0:1]"
   ]
  },
  {
   "cell_type": "code",
   "execution_count": 21,
   "id": "35f2249d",
   "metadata": {},
   "outputs": [
    {
     "data": {
      "text/html": [
       "<div>\n",
       "<style scoped>\n",
       "    .dataframe tbody tr th:only-of-type {\n",
       "        vertical-align: middle;\n",
       "    }\n",
       "\n",
       "    .dataframe tbody tr th {\n",
       "        vertical-align: top;\n",
       "    }\n",
       "\n",
       "    .dataframe thead th {\n",
       "        text-align: right;\n",
       "    }\n",
       "</style>\n",
       "<table border=\"1\" class=\"dataframe\">\n",
       "  <thead>\n",
       "    <tr style=\"text-align: right;\">\n",
       "      <th></th>\n",
       "      <th>Sale</th>\n",
       "      <th>weight</th>\n",
       "      <th>resolution</th>\n",
       "      <th>ppi</th>\n",
       "      <th>cpu core</th>\n",
       "      <th>cpu freq</th>\n",
       "      <th>internal mem</th>\n",
       "      <th>ram</th>\n",
       "      <th>RearCam</th>\n",
       "      <th>Front_Cam</th>\n",
       "      <th>battery</th>\n",
       "      <th>thickness</th>\n",
       "    </tr>\n",
       "  </thead>\n",
       "  <tbody>\n",
       "    <tr>\n",
       "      <th>111</th>\n",
       "      <td>302</td>\n",
       "      <td>149.0</td>\n",
       "      <td>5.5</td>\n",
       "      <td>534</td>\n",
       "      <td>8</td>\n",
       "      <td>1.6</td>\n",
       "      <td>32.0</td>\n",
       "      <td>3.0</td>\n",
       "      <td>16.0</td>\n",
       "      <td>8.0</td>\n",
       "      <td>3000</td>\n",
       "      <td>7.0</td>\n",
       "    </tr>\n",
       "  </tbody>\n",
       "</table>\n",
       "</div>"
      ],
      "text/plain": [
       "     Sale  weight  resolution  ppi  cpu core  cpu freq  internal mem  ram  \\\n",
       "111   302   149.0         5.5  534         8       1.6          32.0  3.0   \n",
       "\n",
       "     RearCam  Front_Cam  battery  thickness  \n",
       "111     16.0        8.0     3000        7.0  "
      ]
     },
     "execution_count": 21,
     "metadata": {},
     "output_type": "execute_result"
    }
   ],
   "source": [
    "input_record.head()"
   ]
  },
  {
   "cell_type": "code",
   "execution_count": 23,
   "id": "4e633cc5",
   "metadata": {},
   "outputs": [
    {
     "data": {
      "text/html": [
       "<div>\n",
       "<style scoped>\n",
       "    .dataframe tbody tr th:only-of-type {\n",
       "        vertical-align: middle;\n",
       "    }\n",
       "\n",
       "    .dataframe tbody tr th {\n",
       "        vertical-align: top;\n",
       "    }\n",
       "\n",
       "    .dataframe thead th {\n",
       "        text-align: right;\n",
       "    }\n",
       "</style>\n",
       "<table border=\"1\" class=\"dataframe\">\n",
       "  <thead>\n",
       "    <tr style=\"text-align: right;\">\n",
       "      <th></th>\n",
       "      <th>Sale</th>\n",
       "      <th>weight</th>\n",
       "      <th>resolution</th>\n",
       "      <th>ppi</th>\n",
       "      <th>cpu core</th>\n",
       "      <th>cpu freq</th>\n",
       "      <th>internal mem</th>\n",
       "      <th>ram</th>\n",
       "      <th>RearCam</th>\n",
       "      <th>Front_Cam</th>\n",
       "      <th>battery</th>\n",
       "      <th>thickness</th>\n",
       "      <th>predicted_price</th>\n",
       "    </tr>\n",
       "  </thead>\n",
       "  <tbody>\n",
       "    <tr>\n",
       "      <th>111</th>\n",
       "      <td>302</td>\n",
       "      <td>149.0</td>\n",
       "      <td>5.5</td>\n",
       "      <td>534</td>\n",
       "      <td>8</td>\n",
       "      <td>1.6</td>\n",
       "      <td>32.0</td>\n",
       "      <td>3.0</td>\n",
       "      <td>16.0</td>\n",
       "      <td>8.0</td>\n",
       "      <td>3000</td>\n",
       "      <td>7.0</td>\n",
       "      <td>2941.57</td>\n",
       "    </tr>\n",
       "  </tbody>\n",
       "</table>\n",
       "</div>"
      ],
      "text/plain": [
       "     Sale  weight  resolution  ppi  cpu core  cpu freq  internal mem  ram  \\\n",
       "111   302   149.0         5.5  534         8       1.6          32.0  3.0   \n",
       "\n",
       "     RearCam  Front_Cam  battery  thickness  predicted_price  \n",
       "111     16.0        8.0     3000        7.0          2941.57  "
      ]
     },
     "execution_count": 23,
     "metadata": {},
     "output_type": "execute_result"
    }
   ],
   "source": [
    "x_test[0:1].head()"
   ]
  },
  {
   "cell_type": "markdown",
   "id": "df8e6864",
   "metadata": {},
   "source": [
    "For the given record, we see that the predicted price is ~2.9K. Suppose if the manufacturer wants to sell the mobile at a price 10%-15% higher than the predicted one, the explainer can be used to see recommendations in the mobile configuration that can achieve the objective."
   ]
  },
  {
   "cell_type": "code",
   "execution_count": 25,
   "id": "378043d6",
   "metadata": {},
   "outputs": [],
   "source": [
    "predicted_price = x_test[0:1].predicted_price"
   ]
  },
  {
   "cell_type": "code",
   "execution_count": 42,
   "id": "eeb6875d",
   "metadata": {},
   "outputs": [],
   "source": [
    "expected_price_range = [round(float(predicted_price*1.10), 0), round(float(predicted_price*1.15), 0)]"
   ]
  },
  {
   "cell_type": "code",
   "execution_count": 43,
   "id": "ff1d5433",
   "metadata": {},
   "outputs": [
    {
     "data": {
      "text/plain": [
       "[3236.0, 3383.0]"
      ]
     },
     "execution_count": 43,
     "metadata": {},
     "output_type": "execute_result"
    }
   ],
   "source": [
    "expected_price_range"
   ]
  },
  {
   "cell_type": "code",
   "execution_count": 44,
   "id": "eafc0a7f",
   "metadata": {},
   "outputs": [
    {
     "name": "stderr",
     "output_type": "stream",
     "text": [
      "100%|██████████| 1/1 [00:00<00:00,  1.40it/s]"
     ]
    },
    {
     "name": "stdout",
     "output_type": "stream",
     "text": [
      "Query instance (original outcome : 2942)\n"
     ]
    },
    {
     "name": "stderr",
     "output_type": "stream",
     "text": [
      "\n"
     ]
    },
    {
     "data": {
      "text/html": [
       "<div>\n",
       "<style scoped>\n",
       "    .dataframe tbody tr th:only-of-type {\n",
       "        vertical-align: middle;\n",
       "    }\n",
       "\n",
       "    .dataframe tbody tr th {\n",
       "        vertical-align: top;\n",
       "    }\n",
       "\n",
       "    .dataframe thead th {\n",
       "        text-align: right;\n",
       "    }\n",
       "</style>\n",
       "<table border=\"1\" class=\"dataframe\">\n",
       "  <thead>\n",
       "    <tr style=\"text-align: right;\">\n",
       "      <th></th>\n",
       "      <th>Sale</th>\n",
       "      <th>weight</th>\n",
       "      <th>resolution</th>\n",
       "      <th>ppi</th>\n",
       "      <th>cpu core</th>\n",
       "      <th>cpu freq</th>\n",
       "      <th>internal mem</th>\n",
       "      <th>ram</th>\n",
       "      <th>RearCam</th>\n",
       "      <th>Front_Cam</th>\n",
       "      <th>battery</th>\n",
       "      <th>thickness</th>\n",
       "      <th>Price</th>\n",
       "    </tr>\n",
       "  </thead>\n",
       "  <tbody>\n",
       "    <tr>\n",
       "      <th>0</th>\n",
       "      <td>302</td>\n",
       "      <td>149.0</td>\n",
       "      <td>5.5</td>\n",
       "      <td>534</td>\n",
       "      <td>8</td>\n",
       "      <td>1.6</td>\n",
       "      <td>32.0</td>\n",
       "      <td>3.0</td>\n",
       "      <td>16.0</td>\n",
       "      <td>8.0</td>\n",
       "      <td>3000</td>\n",
       "      <td>7.0</td>\n",
       "      <td>2942.0</td>\n",
       "    </tr>\n",
       "  </tbody>\n",
       "</table>\n",
       "</div>"
      ],
      "text/plain": [
       "   Sale  weight  resolution  ppi  cpu core  cpu freq  internal mem  ram  \\\n",
       "0   302   149.0         5.5  534         8       1.6          32.0  3.0   \n",
       "\n",
       "   RearCam  Front_Cam  battery  thickness   Price  \n",
       "0     16.0        8.0     3000        7.0  2942.0  "
      ]
     },
     "metadata": {},
     "output_type": "display_data"
    },
    {
     "name": "stdout",
     "output_type": "stream",
     "text": [
      "\n",
      "Diverse Counterfactual set (new outcome: [3236.0, 3383.0])\n"
     ]
    },
    {
     "data": {
      "text/html": [
       "<div>\n",
       "<style scoped>\n",
       "    .dataframe tbody tr th:only-of-type {\n",
       "        vertical-align: middle;\n",
       "    }\n",
       "\n",
       "    .dataframe tbody tr th {\n",
       "        vertical-align: top;\n",
       "    }\n",
       "\n",
       "    .dataframe thead th {\n",
       "        text-align: right;\n",
       "    }\n",
       "</style>\n",
       "<table border=\"1\" class=\"dataframe\">\n",
       "  <thead>\n",
       "    <tr style=\"text-align: right;\">\n",
       "      <th></th>\n",
       "      <th>Sale</th>\n",
       "      <th>weight</th>\n",
       "      <th>resolution</th>\n",
       "      <th>ppi</th>\n",
       "      <th>cpu core</th>\n",
       "      <th>cpu freq</th>\n",
       "      <th>internal mem</th>\n",
       "      <th>ram</th>\n",
       "      <th>RearCam</th>\n",
       "      <th>Front_Cam</th>\n",
       "      <th>battery</th>\n",
       "      <th>thickness</th>\n",
       "      <th>Price</th>\n",
       "    </tr>\n",
       "  </thead>\n",
       "  <tbody>\n",
       "    <tr>\n",
       "      <th>0</th>\n",
       "      <td>-</td>\n",
       "      <td>-</td>\n",
       "      <td>-</td>\n",
       "      <td>-</td>\n",
       "      <td>-</td>\n",
       "      <td>1.6</td>\n",
       "      <td>84.8</td>\n",
       "      <td>5.7</td>\n",
       "      <td>-</td>\n",
       "      <td>-</td>\n",
       "      <td>-</td>\n",
       "      <td>-</td>\n",
       "      <td>3278.169921875</td>\n",
       "    </tr>\n",
       "    <tr>\n",
       "      <th>1</th>\n",
       "      <td>-</td>\n",
       "      <td>-</td>\n",
       "      <td>-</td>\n",
       "      <td>-</td>\n",
       "      <td>-</td>\n",
       "      <td>1.6</td>\n",
       "      <td>-</td>\n",
       "      <td>5.2</td>\n",
       "      <td>-</td>\n",
       "      <td>-</td>\n",
       "      <td>5116.0</td>\n",
       "      <td>-</td>\n",
       "      <td>3305.25</td>\n",
       "    </tr>\n",
       "  </tbody>\n",
       "</table>\n",
       "</div>"
      ],
      "text/plain": [
       "  Sale weight resolution ppi cpu core cpu freq internal mem  ram RearCam  \\\n",
       "0    -      -          -   -        -      1.6         84.8  5.7       -   \n",
       "1    -      -          -   -        -      1.6            -  5.2       -   \n",
       "\n",
       "  Front_Cam battery thickness           Price  \n",
       "0         -       -         -  3278.169921875  \n",
       "1         -  5116.0         -         3305.25  "
      ]
     },
     "metadata": {},
     "output_type": "display_data"
    }
   ],
   "source": [
    "random_mobile = explainer_mobile.generate_counterfactuals(input_record,\n",
    "                                                               total_CFs=2,\n",
    "                                                               desired_range=expected_price_range)\n",
    "random_mobile.visualize_as_dataframe(show_only_changes=True)"
   ]
  },
  {
   "cell_type": "markdown",
   "id": "7823f41a",
   "metadata": {},
   "source": [
    "From the above output, we see that the explainer model has suggested 2 possible ways to sell the mobile at the expected price range:\n",
    "\n",
    "1. Change the internal memory from 32 to 84.8 gb, increase ram from 3 to 5.7 gb\n",
    "2. Change the ram from 3 to 5.2 gb and increase battery capacity from 3000 to 5116 mA\n",
    "\n",
    "However, there might be certain constraints for the business to take into consideration and one cannot go directly with the suggestions from the counterfactual analysis. One might want to take the inputs from the counterfactual analysis, tweak them a bit based on the business constraints and then check if those tweaked inputs generate the desired output. This is possible through What-If analysis."
   ]
  },
  {
   "cell_type": "markdown",
   "id": "d59ec525",
   "metadata": {},
   "source": [
    "#### Step 6: Using What-If analysis for getting the right set of pricing strategies for the given handset"
   ]
  },
  {
   "cell_type": "markdown",
   "id": "f5a716c0",
   "metadata": {},
   "source": [
    "Now suppose for the given counterfactual recommendations, we have a constraint that expensive parts like ram cannot be increased but cheaper components like internal memory can be increased by 2-4 times the present one, and battery can be increased by maximum 50%. So, for the given mobile, we cannot increase the ram. Let us check which configuration can help us get the desired price.\n",
    "\n",
    "Options:\n",
    "\n",
    "1. Change the internal memory by 2x and battery by 50% "
   ]
  },
  {
   "cell_type": "code",
   "execution_count": 73,
   "id": "f04cd21d",
   "metadata": {},
   "outputs": [],
   "source": [
    "expected_internal_memory = int(input_record['internal mem']*2)"
   ]
  },
  {
   "cell_type": "code",
   "execution_count": 74,
   "id": "e0343123",
   "metadata": {},
   "outputs": [],
   "source": [
    "expected_battery = int(input_record['battery']*1.5)"
   ]
  },
  {
   "cell_type": "code",
   "execution_count": 77,
   "id": "0ae87d39",
   "metadata": {},
   "outputs": [],
   "source": [
    "custom_inputs = input_record.copy()\n",
    "custom_inputs['internal mem'] = custom_inputs['internal mem'].replace(int(input_record['internal mem']), expected_internal_memory)\n",
    "custom_inputs['battery'] = custom_inputs['battery'].replace(int(input_record['battery']), expected_battery)"
   ]
  },
  {
   "cell_type": "code",
   "execution_count": 78,
   "id": "59e19648",
   "metadata": {},
   "outputs": [
    {
     "name": "stdout",
     "output_type": "stream",
     "text": [
      "New price based on updated configuration:  [3043.53]\n",
      "The given configuration does not help in getting the minimum expected price of 3236.0\n"
     ]
    }
   ],
   "source": [
    "print('New price based on updated configuration: ', rf.predict(custom_inputs))\n",
    "if rf.predict(custom_inputs)>=expected_price_range[0]:\n",
    "    print(\"The given configuration helps in getting the minimum expected price\")  \n",
    "else:\n",
    "    print(\"The given configuration does not help in getting the minimum expected price of\",expected_price_range[0])"
   ]
  },
  {
   "cell_type": "markdown",
   "id": "2c41755e",
   "metadata": {},
   "source": [
    "We see that increasing the internal memory by 2x and battery size by 50% does not help in getting the expected price range. Let us see if we can achieve the objective with a different combination.\n",
    "\n",
    "2. Increase internal memory by 4x and battery by 50%"
   ]
  },
  {
   "cell_type": "code",
   "execution_count": 79,
   "id": "a19ea74d",
   "metadata": {},
   "outputs": [],
   "source": [
    "expected_internal_memory2 = int(input_record['internal mem']*4)"
   ]
  },
  {
   "cell_type": "code",
   "execution_count": 80,
   "id": "6cb7d5a5",
   "metadata": {},
   "outputs": [],
   "source": [
    "expected_battery2 = int(input_record['battery']*1.5)"
   ]
  },
  {
   "cell_type": "code",
   "execution_count": 81,
   "id": "44ff874c",
   "metadata": {},
   "outputs": [],
   "source": [
    "custom_inputs2 = input_record.copy()\n",
    "custom_inputs2['internal mem'] = custom_inputs2['internal mem'].replace(int(input_record['internal mem']), expected_internal_memory2)\n",
    "custom_inputs2['battery'] = custom_inputs2['battery'].replace(int(input_record['battery']), expected_battery2)"
   ]
  },
  {
   "cell_type": "code",
   "execution_count": 82,
   "id": "a5946700",
   "metadata": {},
   "outputs": [
    {
     "name": "stdout",
     "output_type": "stream",
     "text": [
      "New price based on updated configuration:  [3247.54]\n",
      "The given configuration helps in getting the minimum expected price\n"
     ]
    }
   ],
   "source": [
    "print('New price based on updated configuration: ', rf.predict(custom_inputs2))\n",
    "if rf.predict(custom_inputs2)>=expected_price_range[0]:\n",
    "    print(\"The given configuration helps in getting the minimum expected price\")  \n",
    "else:\n",
    "    print(\"The given configuration does not help in getting the minimum expected price of\",expected_price_range[0])"
   ]
  },
  {
   "cell_type": "markdown",
   "id": "f99a5cc3",
   "metadata": {},
   "source": [
    "We see that option 2 gives us the right configuration to achieve the objective of increasing the handset price by at least 10% of the predicted one."
   ]
  }
 ],
 "metadata": {
  "kernelspec": {
   "display_name": "Python 3 (ipykernel)",
   "language": "python",
   "name": "python3"
  },
  "language_info": {
   "codemirror_mode": {
    "name": "ipython",
    "version": 3
   },
   "file_extension": ".py",
   "mimetype": "text/x-python",
   "name": "python",
   "nbconvert_exporter": "python",
   "pygments_lexer": "ipython3",
   "version": "3.9.13"
  }
 },
 "nbformat": 4,
 "nbformat_minor": 5
}
